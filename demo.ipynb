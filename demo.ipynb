{
 "cells": [
  {
   "cell_type": "code",
   "execution_count": 3,
   "metadata": {},
   "outputs": [
    {
     "name": "stdout",
     "output_type": "stream",
     "text": [
      " COMP    TCRIT      PCRIT   OMEGA    M-FACTOR \n",
      "  C1     190.60      4.60   0.0080    0.3870\n",
      "  C2     305.40      4.88   0.0980    0.5232\n",
      "  C3     369.80      4.24   0.1520    0.6028\n",
      "  C4     425.20      3.80   0.1930    0.6622\n",
      "  C5     469.60      3.37   0.2510    0.7447\n",
      "  C6     507.40      2.97   0.2960    0.8075\n",
      "  N2     126.20      3.39   0.0400    0.4359\n",
      "\n",
      "  BINARY INTERACTION COEFFICIENTS \n",
      "     \n",
      "        C1    C2    C3    C4    C5    C6    N2 \n",
      "  C1 \n",
      "  C2  0.00 \n",
      "  C3  0.00  0.00 \n",
      "  C4  0.00  0.00  0.00 \n",
      "  C5  0.00  0.00  0.00  0.00 \n",
      "  C6  0.00  0.00  0.00  0.00  0.00 \n",
      "  N2  0.02  0.06  0.08  0.08  0.08  0.08 \n",
      "Enter the temperature in K 300\n",
      "Enter the Pressure in MPa 1\n",
      "FUG\n",
      "[-0.02162461 -0.06635492 -0.10378611 -0.14087143 -0.17863713 -0.21769866\n",
      "  0.00224655]\n",
      "FUGT\n",
      "[2.40175996e-04 6.52619387e-04 1.00794559e-03 1.35812492e-03\n",
      " 1.72624755e-03 2.10902404e-03 5.20187678e-05]\n",
      "FUGP\n",
      "[-0.02144211 -0.06642345 -0.103957   -0.1411366  -0.1789669  -0.21804034\n",
      "  0.00267216]\n",
      "FUGX\n",
      "[[-1.35008389e-04  2.10114656e-03  4.03972783e-03  5.98521164e-03\n",
      "   7.98830285e-03  1.00983968e-02 -1.45045595e-03]\n",
      " [ 2.10114656e-03 -3.26171874e-02 -6.28430627e-02 -9.28316973e-02\n",
      "  -1.23708814e-01 -1.56236203e-01  2.21033452e-02]\n",
      " [ 4.03972783e-03 -6.28430627e-02 -1.21064418e-01 -1.78847991e-01\n",
      "  -2.38343550e-01 -3.01018956e-01  4.31484102e-02]\n",
      " [ 5.98521164e-03 -9.28316973e-02 -1.78847991e-01 -2.64227391e-01\n",
      "  -3.52136363e-01 -4.44743773e-01  6.25787541e-02]\n",
      " [ 7.98830285e-03 -1.23708814e-01 -2.38343550e-01 -3.52136363e-01\n",
      "  -4.69300568e-01 -5.92726809e-01  8.25869418e-02]\n",
      " [ 1.00983968e-02 -1.56236203e-01 -3.01018956e-01 -4.44743773e-01\n",
      "  -5.92726809e-01 -7.48619077e-01  1.03668253e-01]\n",
      " [-1.45045595e-03  2.21033452e-02  4.31484102e-02  6.25787541e-02\n",
      "   8.25869418e-02  1.03668253e-01 -1.29712489e-02]]\n",
      "AUX\n",
      "[ 9.75861966e-01 -9.76210811e-01 -2.39146607e+01 -5.54050876e-02\n",
      "  1.30393594e-01  3.60686418e-03]\n",
      "FTYPE\n",
      "-1\n"
     ]
    }
   ],
   "source": [
    "# Wei Yan, DTU, weya@kemi.dtu.dk\n",
    "# August 10, 2020\n",
    "# Test script for thermclc_shared.pyc\n",
    "import time\n",
    "import numpy as np\n",
    "import thermclc as th\n",
    "\n",
    "LIST = np.array([1, 2, 3, 5, 7, 8, 13]).astype(int)\n",
    "NC = np.size(LIST)\n",
    "ICEQ = 1\n",
    "z = np.array([94.3, 2.7, 0.74, 0.49, 0.27, 0.10, 1.40])\n",
    "z = z/sum(z)\n",
    "\n",
    "th.INDATA(NC,ICEQ,LIST)\n",
    "\n",
    "Tc = np.zeros(NC) #Critical temperatures [K]\n",
    "Pc = np.zeros(NC) #Critical pressures [MPa]\n",
    "omega = np.zeros(NC) #Acentric factors\n",
    "kij = np.zeros((NC,NC)) #Binary interaction parameters\n",
    "\n",
    "for i in range(0,NC): # writing the critical parameters in vectors.\n",
    "    (Tc[i], Pc[i], omega[i]) = th.GETCRIT(i) # this is to get critical properties\n",
    "    for j in range(i+1,NC):\n",
    "        kij[i,j] = th.GETKIJ(i,j) # this is to get kij\n",
    "        kij[j,i] = kij[i,j]\n",
    "\n",
    "T = float(input(\"Enter the temperature in K \")) # K\n",
    "P = float(input('Enter the Pressure in MPa ')) # MPa\n",
    "        \n",
    "(FUG, FUGT, FUGP, FUGX, AUX, FTYPE) = th.THERMO(T,P,z,0,5) # this is to call the THERMO subroutine to get all the properties\n",
    "\n",
    "print(\"FUG\")\n",
    "print(FUG)\n",
    "\n",
    "print(\"FUGT\")\n",
    "print(FUGT)\n",
    "\n",
    "print(\"FUGP\")\n",
    "print(FUGP)\n",
    "\n",
    "print(\"FUGX\")\n",
    "print(FUGX)\n",
    "\n",
    "print(\"AUX\")\n",
    "print(AUX)\n",
    "\n",
    "print(\"FTYPE\")\n",
    "print(FTYPE)\n"
   ]
  },
  {
   "cell_type": "code",
   "execution_count": null,
   "metadata": {},
   "outputs": [],
   "source": [
    "  "
   ]
  },
  {
   "cell_type": "code",
   "execution_count": null,
   "metadata": {},
   "outputs": [],
   "source": []
  },
  {
   "cell_type": "code",
   "execution_count": null,
   "metadata": {},
   "outputs": [],
   "source": []
  },
  {
   "cell_type": "code",
   "execution_count": null,
   "metadata": {},
   "outputs": [],
   "source": []
  },
  {
   "cell_type": "code",
   "execution_count": null,
   "metadata": {
    "scrolled": false
   },
   "outputs": [],
   "source": []
  },
  {
   "cell_type": "code",
   "execution_count": null,
   "metadata": {},
   "outputs": [],
   "source": [
    "import numpy as np\n",
    "A =np.zeros(5)\n",
    "print(A)\n"
   ]
  }
 ],
 "metadata": {
  "kernelspec": {
   "display_name": "Python 3 (ipykernel)",
   "language": "python",
   "name": "python3"
  },
  "language_info": {
   "codemirror_mode": {
    "name": "ipython",
    "version": 3
   },
   "file_extension": ".py",
   "mimetype": "text/x-python",
   "name": "python",
   "nbconvert_exporter": "python",
   "pygments_lexer": "ipython3",
   "version": "3.9.13"
  }
 },
 "nbformat": 4,
 "nbformat_minor": 2
}
