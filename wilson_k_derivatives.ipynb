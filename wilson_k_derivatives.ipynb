{
 "cells": [
  {
   "cell_type": "code",
   "execution_count": 1,
   "metadata": {},
   "outputs": [],
   "source": [
    "from sympy import *"
   ]
  },
  {
   "cell_type": "code",
   "execution_count": 2,
   "metadata": {},
   "outputs": [],
   "source": [
    "T = Symbol('T')\n",
    "P = Symbol('P')\n",
    "Tc = Symbol('Tc')\n",
    "Pc = Symbol('Pc')\n",
    "w = Symbol('w')"
   ]
  },
  {
   "cell_type": "code",
   "execution_count": 3,
   "metadata": {},
   "outputs": [],
   "source": [
    "Ki = Pc/P*exp(5.373*(1+w)*(1-Tc/T))"
   ]
  },
  {
   "cell_type": "code",
   "execution_count": 4,
   "metadata": {},
   "outputs": [
    {
     "data": {
      "text/latex": [
       "$\\displaystyle \\frac{Pc Tc \\left(5.373 w + 5.373\\right) e^{\\left(1 - \\frac{Tc}{T}\\right) \\left(5.373 w + 5.373\\right)}}{P T^{2}}$"
      ],
      "text/plain": [
       "Pc*Tc*(5.373*w + 5.373)*exp((1 - Tc/T)*(5.373*w + 5.373))/(P*T**2)"
      ]
     },
     "execution_count": 4,
     "metadata": {},
     "output_type": "execute_result"
    }
   ],
   "source": [
    "diff(Ki, T)"
   ]
  },
  {
   "cell_type": "code",
   "execution_count": 5,
   "metadata": {},
   "outputs": [
    {
     "data": {
      "text/latex": [
       "$\\displaystyle - \\frac{Pc e^{\\left(1 - \\frac{Tc}{T}\\right) \\left(5.373 w + 5.373\\right)}}{P^{2}}$"
      ],
      "text/plain": [
       "-Pc*exp((1 - Tc/T)*(5.373*w + 5.373))/P**2"
      ]
     },
     "execution_count": 5,
     "metadata": {},
     "output_type": "execute_result"
    }
   ],
   "source": [
    "diff(Ki, P)"
   ]
  }
 ],
 "metadata": {
  "kernelspec": {
   "display_name": "venv",
   "language": "python",
   "name": "python3"
  },
  "language_info": {
   "codemirror_mode": {
    "name": "ipython",
    "version": 3
   },
   "file_extension": ".py",
   "mimetype": "text/x-python",
   "name": "python",
   "nbconvert_exporter": "python",
   "pygments_lexer": "ipython3",
   "version": "3.11.4"
  }
 },
 "nbformat": 4,
 "nbformat_minor": 2
}
